{
 "cells": [
  {
   "attachments": {},
   "cell_type": "markdown",
   "metadata": {},
   "source": [
    "## Analysing performance of a simple SVM classifier"
   ]
  },
  {
   "cell_type": "code",
   "execution_count": 1,
   "metadata": {},
   "outputs": [],
   "source": [
    "import sys\n",
    "\n",
    "sys.path.insert(0, \"..\")\n",
    "\n",
    "import scipy.io\n",
    "import numpy as np\n",
    "from sklearn import svm\n",
    "from sklearn.metrics import accuracy_score, confusion_matrix, classification_report\n",
    "from sklearn.model_selection import train_test_split\n",
    "\n",
    "from HAR.transformers import CSIMinMaxScaler\n",
    "\n",
    "\n",
    "def load_dataset(infile):\n",
    "    mat = scipy.io.loadmat(infile)\n",
    "    X = mat[\"csi\"].T\n",
    "    nsamples = mat[\"nsamples\"].flatten()\n",
    "    dim = mat[\"dim\"].flatten()\n",
    "    classnames = list(map(lambda s: s.strip().title(), mat[\"classnames\"]))\n",
    "    y = []\n",
    "    for i in range(len(classnames)):\n",
    "        y += [i] * nsamples[i]\n",
    "    y = np.array(y)\n",
    "    return X, y, nsamples, classnames, dim"
   ]
  },
  {
   "attachments": {},
   "cell_type": "markdown",
   "metadata": {},
   "source": [
    "### [1] Train and test SVM on data captured on some subset of days"
   ]
  },
  {
   "cell_type": "code",
   "execution_count": 2,
   "metadata": {},
   "outputs": [
    {
     "name": "stdout",
     "output_type": "stream",
     "text": [
      "\n",
      "> Test Accuracy: 96.6667%\n",
      "\n",
      "> Confusion Matrix: \n",
      "[[100   0   0]\n",
      " [  3  93   4]\n",
      " [  1   2  97]]\n",
      "\n",
      "> Classification Report :\n",
      "              precision    recall  f1-score   support\n",
      "\n",
      "       Empty       0.96      1.00      0.98       100\n",
      "        Walk       0.98      0.93      0.95       100\n",
      "        Jump       0.96      0.97      0.97       100\n",
      "\n",
      "    accuracy                           0.97       300\n",
      "   macro avg       0.97      0.97      0.97       300\n",
      "weighted avg       0.97      0.97      0.97       300\n",
      "\n"
     ]
    }
   ],
   "source": [
    "X, y, _, classnames, dim = load_dataset(\"../dataset/rCSI-3.mat\")\n",
    "X = X.reshape(X.shape[0], *dim)\n",
    "X = CSIMinMaxScaler().fit_transform(X)\n",
    "X = X.reshape(X.shape[0], dim[0] * dim[1])\n",
    "\n",
    "X_train, X_test, y_train, y_test = train_test_split(\n",
    "    X, y, test_size=0.2, random_state=42, stratify=y\n",
    ")\n",
    "\n",
    "# Train an SVM classifier on the training data\n",
    "clf = svm.SVC(kernel=\"rbf\", decision_function_shape=\"ovo\")\n",
    "clf.fit(X_train, y_train)\n",
    "\n",
    "# Predict the class labels for the test data\n",
    "y_pred = clf.predict(X_test)\n",
    "\n",
    "print(f\"\\n> Test Accuracy: {accuracy_score(y_test, y_pred)*100:.4f}%\")\n",
    "print(\"\\n> Confusion Matrix: \")\n",
    "print(confusion_matrix(y_test, y_pred))\n",
    "print(\"\\n> Classification Report :\")\n",
    "print(classification_report(y_test, y_pred, target_names=classnames))"
   ]
  },
  {
   "attachments": {},
   "cell_type": "markdown",
   "metadata": {},
   "source": [
    "### [2] Test SVM on data captured on a different day, not part of previous train-test set"
   ]
  },
  {
   "cell_type": "code",
   "execution_count": 3,
   "metadata": {},
   "outputs": [
    {
     "name": "stdout",
     "output_type": "stream",
     "text": [
      "\n",
      "> Test Accuracy: 33.3333%\n",
      "\n",
      "> Confusion Matrix: \n",
      "[[  0 120   0]\n",
      " [  0 120   0]\n",
      " [  0 120   0]]\n",
      "\n",
      "> Classification Report :\n",
      "              precision    recall  f1-score   support\n",
      "\n",
      "       Empty       0.00      0.00      0.00       120\n",
      "        Walk       0.33      1.00      0.50       120\n",
      "        Jump       0.00      0.00      0.00       120\n",
      "\n",
      "    accuracy                           0.33       360\n",
      "   macro avg       0.11      0.33      0.17       360\n",
      "weighted avg       0.11      0.33      0.17       360\n",
      "\n"
     ]
    }
   ],
   "source": [
    "import warnings\n",
    "\n",
    "warnings.filterwarnings(\"ignore\")\n",
    "\n",
    "X, y, _, classnames, dim = load_dataset(\"../dataset/rCSI-4.mat\")\n",
    "X = X.reshape(X.shape[0], *dim)\n",
    "X = CSIMinMaxScaler().fit_transform(X)\n",
    "X = X.reshape(X.shape[0], dim[0] * dim[1])\n",
    "\n",
    "y_pred = clf.predict(X)\n",
    "\n",
    "print(f\"\\n> Test Accuracy: {accuracy_score(y, y_pred)*100:.4f}%\")\n",
    "print(\"\\n> Confusion Matrix: \")\n",
    "print(confusion_matrix(y, y_pred))\n",
    "print(\"\\n> Classification Report :\")\n",
    "print(classification_report(y, y_pred, target_names=classnames))"
   ]
  },
  {
   "attachments": {},
   "cell_type": "markdown",
   "metadata": {},
   "source": [
    "**Observation**: We observe a sharp drop in prediction accuracy as concluded at the end of t-SNE analysis."
   ]
  }
 ],
 "metadata": {
  "kernelspec": {
   "display_name": ".venv",
   "language": "python",
   "name": "python3"
  },
  "language_info": {
   "codemirror_mode": {
    "name": "ipython",
    "version": 3
   },
   "file_extension": ".py",
   "mimetype": "text/x-python",
   "name": "python",
   "nbconvert_exporter": "python",
   "pygments_lexer": "ipython3",
   "version": "3.8.10"
  },
  "orig_nbformat": 4
 },
 "nbformat": 4,
 "nbformat_minor": 2
}
