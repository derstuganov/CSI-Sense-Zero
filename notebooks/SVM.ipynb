{
 "cells": [
  {
   "attachments": {},
   "cell_type": "markdown",
   "metadata": {},
   "source": [
    "## Analysing performance of a simple SVM classifier"
   ]
  },
  {
   "cell_type": "code",
   "execution_count": 1,
   "metadata": {},
   "outputs": [],
   "source": [
    "import sys\n",
    "\n",
    "sys.path.insert(0, \"..\")\n",
    "\n",
    "from sklearn import svm\n",
    "from sklearn.metrics import accuracy_score, confusion_matrix, classification_report\n",
    "from sklearn.model_selection import train_test_split\n",
    "\n",
    "from HAR.transformers import CSIMinMaxScaler\n",
    "from HAR.io import load_dataset"
   ]
  },
  {
   "attachments": {},
   "cell_type": "markdown",
   "metadata": {},
   "source": [
    "### [1] Train and test SVM on data captured on some subset of days"
   ]
  },
  {
   "cell_type": "code",
   "execution_count": 2,
   "metadata": {},
   "outputs": [
    {
     "name": "stdout",
     "output_type": "stream",
     "text": [
      "\n",
      "> Test Accuracy: 97.6667%\n",
      "\n",
      "> Confusion Matrix: \n",
      "[[100   0   0]\n",
      " [  1  95   4]\n",
      " [  0   2  98]]\n",
      "\n",
      "> Classification Report :\n",
      "              precision    recall  f1-score   support\n",
      "\n",
      "        Idle       0.99      1.00      1.00       100\n",
      "        Walk       0.98      0.95      0.96       100\n",
      "        Jump       0.96      0.98      0.97       100\n",
      "\n",
      "    accuracy                           0.98       300\n",
      "   macro avg       0.98      0.98      0.98       300\n",
      "weighted avg       0.98      0.98      0.98       300\n",
      "\n"
     ]
    }
   ],
   "source": [
    "X, y, _, classnames, dim = load_dataset(\"../dataset/rCSI-d1d2.mat\")\n",
    "X = X.reshape(X.shape[0], *dim)\n",
    "X = CSIMinMaxScaler().fit_transform(X)\n",
    "X = X.reshape(X.shape[0], dim[0] * dim[1])\n",
    "\n",
    "X_train, X_test, y_train, y_test = train_test_split(\n",
    "    X, y, test_size=0.2, random_state=42, stratify=y\n",
    ")\n",
    "\n",
    "# Train an SVM classifier on the training data\n",
    "clf = svm.SVC(kernel=\"rbf\", decision_function_shape=\"ovo\")\n",
    "clf.fit(X_train, y_train)\n",
    "\n",
    "# Predict the class labels for the test data\n",
    "y_pred = clf.predict(X_test)\n",
    "\n",
    "print(f\"\\n> Test Accuracy: {accuracy_score(y_test, y_pred)*100:.4f}%\")\n",
    "print(\"\\n> Confusion Matrix: \")\n",
    "print(confusion_matrix(y_test, y_pred))\n",
    "print(\"\\n> Classification Report :\")\n",
    "print(classification_report(y_test, y_pred, target_names=classnames))"
   ]
  },
  {
   "attachments": {},
   "cell_type": "markdown",
   "metadata": {},
   "source": [
    "### [2] Test SVM on data captured on a different day, not part of previous train-test set"
   ]
  },
  {
   "cell_type": "code",
   "execution_count": 3,
   "metadata": {},
   "outputs": [
    {
     "name": "stdout",
     "output_type": "stream",
     "text": [
      "\n",
      "> Test Accuracy: 36.0784%\n",
      "\n",
      "> Confusion Matrix: \n",
      "[[ 14  94  62]\n",
      " [  0 170   0]\n",
      " [  0 170   0]]\n",
      "\n",
      "> Classification Report :\n",
      "              precision    recall  f1-score   support\n",
      "\n",
      "        Idle       1.00      0.08      0.15       170\n",
      "        Walk       0.39      1.00      0.56       170\n",
      "        Jump       0.00      0.00      0.00       170\n",
      "\n",
      "    accuracy                           0.36       510\n",
      "   macro avg       0.46      0.36      0.24       510\n",
      "weighted avg       0.46      0.36      0.24       510\n",
      "\n"
     ]
    }
   ],
   "source": [
    "import warnings\n",
    "\n",
    "warnings.filterwarnings(\"ignore\")\n",
    "\n",
    "X, y, _, classnames, dim = load_dataset(\"../dataset/rCSI-d3.mat\")\n",
    "X = X.reshape(X.shape[0], *dim)\n",
    "X = CSIMinMaxScaler().fit_transform(X)\n",
    "X = X.reshape(X.shape[0], dim[0] * dim[1])\n",
    "\n",
    "y_pred = clf.predict(X)\n",
    "\n",
    "print(f\"\\n> Test Accuracy: {accuracy_score(y, y_pred)*100:.4f}%\")\n",
    "print(\"\\n> Confusion Matrix: \")\n",
    "print(confusion_matrix(y, y_pred))\n",
    "print(\"\\n> Classification Report :\")\n",
    "print(classification_report(y, y_pred, target_names=classnames))"
   ]
  },
  {
   "attachments": {},
   "cell_type": "markdown",
   "metadata": {},
   "source": [
    "**Observation**: We observe a sharp drop in prediction accuracy as concluded at the end of t-SNE analysis."
   ]
  }
 ],
 "metadata": {
  "kernelspec": {
   "display_name": ".venv",
   "language": "python",
   "name": "python3"
  },
  "language_info": {
   "codemirror_mode": {
    "name": "ipython",
    "version": 3
   },
   "file_extension": ".py",
   "mimetype": "text/x-python",
   "name": "python",
   "nbconvert_exporter": "python",
   "pygments_lexer": "ipython3",
   "version": "3.8.10"
  },
  "orig_nbformat": 4
 },
 "nbformat": 4,
 "nbformat_minor": 2
}
