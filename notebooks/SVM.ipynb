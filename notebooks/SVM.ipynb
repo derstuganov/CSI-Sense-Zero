{
 "cells": [
  {
   "cell_type": "code",
   "execution_count": 1,
   "metadata": {},
   "outputs": [],
   "source": [
    "import scipy.io\n",
    "import numpy as np\n",
    "from sklearn import svm\n",
    "from sklearn.metrics import accuracy_score, confusion_matrix, classification_report\n",
    "from sklearn.model_selection import train_test_split\n",
    "\n",
    "\n",
    "def load_dataset(infile):\n",
    "    mat = scipy.io.loadmat(infile)\n",
    "    X = mat[\"csi\"].T\n",
    "    nsamples = mat[\"nsamples\"].flatten()\n",
    "    dim = mat[\"dim\"].flatten()\n",
    "    classnames = list(map(lambda s: s.strip().title(), mat[\"classnames\"]))\n",
    "    y = []\n",
    "    for i in range(len(classnames)):\n",
    "        y += [i] * nsamples[i]\n",
    "    y = np.array(y)\n",
    "    return X, y, nsamples, classnames, dim"
   ]
  },
  {
   "cell_type": "code",
   "execution_count": 2,
   "metadata": {},
   "outputs": [
    {
     "name": "stdout",
     "output_type": "stream",
     "text": [
      "\n",
      "> Test Accuracy: 96.6667%\n",
      "\n",
      "> Confusion Matrix: \n",
      "[[100   0   0]\n",
      " [  3  93   4]\n",
      " [  1   2  97]]\n",
      "\n",
      "> Classification Report :\n",
      "              precision    recall  f1-score   support\n",
      "\n",
      "       Empty       0.96      1.00      0.98       100\n",
      "        Walk       0.98      0.93      0.95       100\n",
      "        Jump       0.96      0.97      0.97       100\n",
      "\n",
      "    accuracy                           0.97       300\n",
      "   macro avg       0.97      0.97      0.97       300\n",
      "weighted avg       0.97      0.97      0.97       300\n",
      "\n"
     ]
    }
   ],
   "source": [
    "X, y, _, classnames, _ = load_dataset(\"../dataset/rCSI-3.mat\")\n",
    "X_train, X_test, y_train, y_test = train_test_split(\n",
    "    X, y, test_size=0.2, random_state=42, stratify=y\n",
    ")\n",
    "\n",
    "# Train an SVM classifier on the training data\n",
    "clf = svm.SVC(kernel=\"rbf\", decision_function_shape=\"ovo\")\n",
    "clf.fit(X_train, y_train)\n",
    "\n",
    "# Predict the class labels for the test data\n",
    "y_pred = clf.predict(X_test)\n",
    "\n",
    "print(f\"\\n> Test Accuracy: {accuracy_score(y_test, y_pred)*100:.4f}%\")\n",
    "print(\"\\n> Confusion Matrix: \")\n",
    "print(confusion_matrix(y_test, y_pred))\n",
    "print(\"\\n> Classification Report :\")\n",
    "print(classification_report(y_test, y_pred, target_names=classnames))"
   ]
  },
  {
   "cell_type": "code",
   "execution_count": 3,
   "metadata": {},
   "outputs": [
    {
     "name": "stdout",
     "output_type": "stream",
     "text": [
      "\n",
      "> Test Accuracy: 35.5556%\n",
      "\n",
      "> Confusion Matrix: \n",
      "[[  0   0 120]\n",
      " [ 13  22  85]\n",
      " [  8   6 106]]\n",
      "\n",
      "> Classification Report :\n",
      "              precision    recall  f1-score   support\n",
      "\n",
      "       Empty       0.00      0.00      0.00       120\n",
      "        Walk       0.79      0.18      0.30       120\n",
      "        Jump       0.34      0.88      0.49       120\n",
      "\n",
      "    accuracy                           0.36       360\n",
      "   macro avg       0.38      0.36      0.26       360\n",
      "weighted avg       0.38      0.36      0.26       360\n",
      "\n"
     ]
    }
   ],
   "source": [
    "import warnings\n",
    "\n",
    "warnings.filterwarnings(\"ignore\")\n",
    "\n",
    "X, y, _, classnames, _ = load_dataset(\"../dataset/rCSI-4.mat\")\n",
    "\n",
    "y_pred = clf.predict(X)\n",
    "\n",
    "print(f\"\\n> Test Accuracy: {accuracy_score(y, y_pred)*100:.4f}%\")\n",
    "print(\"\\n> Confusion Matrix: \")\n",
    "print(confusion_matrix(y, y_pred))\n",
    "print(\"\\n> Classification Report :\")\n",
    "print(classification_report(y, y_pred, target_names=classnames))"
   ]
  }
 ],
 "metadata": {
  "kernelspec": {
   "display_name": ".venv",
   "language": "python",
   "name": "python3"
  },
  "language_info": {
   "codemirror_mode": {
    "name": "ipython",
    "version": 3
   },
   "file_extension": ".py",
   "mimetype": "text/x-python",
   "name": "python",
   "nbconvert_exporter": "python",
   "pygments_lexer": "ipython3",
   "version": "3.8.10"
  },
  "orig_nbformat": 4
 },
 "nbformat": 4,
 "nbformat_minor": 2
}
