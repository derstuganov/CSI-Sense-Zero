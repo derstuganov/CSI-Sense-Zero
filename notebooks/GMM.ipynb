{
 "cells": [
  {
   "attachments": {},
   "cell_type": "markdown",
   "metadata": {},
   "source": [
    "## Gaussian Mixture Models on CSI data - Proof of Concept"
   ]
  },
  {
   "cell_type": "code",
   "execution_count": 1,
   "metadata": {},
   "outputs": [],
   "source": [
    "import sys\n",
    "\n",
    "sys.path.insert(0, \"..\")\n",
    "\n",
    "import scipy.io\n",
    "import numpy as np\n",
    "from sklearn.pipeline import Pipeline\n",
    "from sklearn.mixture import GaussianMixture\n",
    "from sklearn.decomposition import PCA\n",
    "\n",
    "from HAR.transformers import CSIMinMaxScaler\n",
    "\n",
    "\n",
    "def load_dataset(infile):\n",
    "    mat = scipy.io.loadmat(infile)\n",
    "    X = mat[\"csi\"].T\n",
    "    nsamples = mat[\"nsamples\"].flatten()\n",
    "    dim = mat[\"dim\"].flatten()\n",
    "    classnames = list(map(lambda s: s.strip().title(), mat[\"classnames\"]))\n",
    "    y = []\n",
    "    for i in range(len(classnames)):\n",
    "        y += [i] * nsamples[i]\n",
    "    y = np.array(y)\n",
    "    return X, y, nsamples, classnames, dim"
   ]
  },
  {
   "cell_type": "code",
   "execution_count": 2,
   "metadata": {},
   "outputs": [],
   "source": [
    "# Load data\n",
    "X, y, _, classnames, dim = load_dataset(\"../dataset/rCSI-5.mat\")\n",
    "\n",
    "# Min-Max scaling\n",
    "X = X.reshape(X.shape[0], *dim)\n",
    "X = CSIMinMaxScaler().fit_transform(X)\n",
    "X = X.reshape(X.shape[0], dim[0] * dim[1])"
   ]
  },
  {
   "cell_type": "code",
   "execution_count": 3,
   "metadata": {},
   "outputs": [],
   "source": [
    "pipe = Pipeline(\n",
    "    [\n",
    "        (\"pca\", PCA(n_components=0.95, random_state=42)),\n",
    "        (\"gmm\", GaussianMixture(n_components=len(classnames), random_state=42)),\n",
    "    ]\n",
    ")"
   ]
  },
  {
   "cell_type": "code",
   "execution_count": 4,
   "metadata": {},
   "outputs": [
    {
     "name": "stdout",
     "output_type": "stream",
     "text": [
      "Class 0 labelled as 2\n",
      "Class 1 labelled as 1\n",
      "Class 2 labelled as 1\n"
     ]
    }
   ],
   "source": [
    "y_pred = pipe.fit_predict(X)\n",
    "\n",
    "most_frequent = lambda a: np.argmax(np.bincount(a))\n",
    "\n",
    "for i in range(len(classnames)):\n",
    "    print(f\"Class {i} labelled as {most_frequent(y_pred[y==i])}\")"
   ]
  },
  {
   "attachments": {},
   "cell_type": "markdown",
   "metadata": {},
   "source": [
    "*Observation*: Unreliable classification"
   ]
  }
 ],
 "metadata": {
  "kernelspec": {
   "display_name": ".venv",
   "language": "python",
   "name": "python3"
  },
  "language_info": {
   "codemirror_mode": {
    "name": "ipython",
    "version": 3
   },
   "file_extension": ".py",
   "mimetype": "text/x-python",
   "name": "python",
   "nbconvert_exporter": "python",
   "pygments_lexer": "ipython3",
   "version": "3.8.10"
  },
  "orig_nbformat": 4
 },
 "nbformat": 4,
 "nbformat_minor": 2
}
