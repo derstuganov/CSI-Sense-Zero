{
 "cells": [
  {
   "cell_type": "code",
   "execution_count": 6,
   "metadata": {},
   "outputs": [],
   "source": [
    "import sys\n",
    "\n",
    "sys.path.insert(0, \"..\")\n",
    "\n",
    "import scipy.io\n",
    "import numpy as np\n",
    "from sklearn.pipeline import Pipeline\n",
    "from sklearn.model_selection import train_test_split\n",
    "from sklearn.metrics import confusion_matrix, accuracy_score, classification_report\n",
    "\n",
    "from HAR.transformers import CSIScaler, Rocket\n",
    "from HAR.classifier import RidgeVotingClassifier\n",
    "\n",
    "\n",
    "def load_dataset(infile):\n",
    "    mat = scipy.io.loadmat(infile)\n",
    "    X = mat[\"csi\"].T\n",
    "    nsamples = mat[\"nsamples\"].flatten()\n",
    "    dim = mat[\"dim\"].flatten()\n",
    "    classnames = list(map(lambda s: s.strip().title(), mat[\"classnames\"]))\n",
    "    y = []\n",
    "    for i in range(len(classnames)):\n",
    "        y += [i] * nsamples[i]\n",
    "    y = np.array(y)\n",
    "    return X, y, nsamples, classnames, dim\n",
    "\n",
    "\n",
    "pipe = Pipeline(\n",
    "    [\n",
    "        (\"scaler\", CSIScaler()),\n",
    "        (\n",
    "            \"feature_selector\",\n",
    "            Rocket(n_kernels=1_500),\n",
    "        ),\n",
    "        (\n",
    "            \"classifier\",\n",
    "            RidgeVotingClassifier(n_classes=3),\n",
    "        ),\n",
    "    ]\n",
    ")"
   ]
  },
  {
   "cell_type": "code",
   "execution_count": 7,
   "metadata": {},
   "outputs": [
    {
     "name": "stdout",
     "output_type": "stream",
     "text": [
      "=== Generating Kernels ===\n",
      "=== Kernel Transform ===\n"
     ]
    },
    {
     "name": "stderr",
     "output_type": "stream",
     "text": [
      "100%|██████████| 1200/1200 [01:34<00:00, 12.73it/s]\n"
     ]
    },
    {
     "name": "stdout",
     "output_type": "stream",
     "text": [
      "=== Classifer Training ===\n"
     ]
    },
    {
     "name": "stderr",
     "output_type": "stream",
     "text": [
      "100%|██████████| 54/54 [00:21<00:00,  2.54it/s]\n"
     ]
    },
    {
     "name": "stdout",
     "output_type": "stream",
     "text": [
      "=== Kernel Transform ===\n"
     ]
    },
    {
     "name": "stderr",
     "output_type": "stream",
     "text": [
      "100%|██████████| 300/300 [00:28<00:00, 10.41it/s]\n"
     ]
    },
    {
     "name": "stdout",
     "output_type": "stream",
     "text": [
      "\n",
      "> Test Accuracy: 97.0000%\n",
      "\n",
      "> Confusion Matrix: \n",
      "[[100   0   0]\n",
      " [  0  99   1]\n",
      " [  3   5  92]]\n",
      "\n",
      "> Classification Report :\n",
      "              precision    recall  f1-score   support\n",
      "\n",
      "       Empty       0.97      1.00      0.99       100\n",
      "        Walk       0.95      0.99      0.97       100\n",
      "        Jump       0.99      0.92      0.95       100\n",
      "\n",
      "    accuracy                           0.97       300\n",
      "   macro avg       0.97      0.97      0.97       300\n",
      "weighted avg       0.97      0.97      0.97       300\n",
      "\n"
     ]
    }
   ],
   "source": [
    "X, y, nsamples, classnames, dim = load_dataset(\"../dataset/rCSI-3\")\n",
    "X = X.reshape(X.shape[0], *dim)\n",
    "\n",
    "X_train, X_test, y_train, y_test = train_test_split(X, y, train_size=0.8, stratify=y)\n",
    "\n",
    "pipe.fit_transform(X_train, y_train)\n",
    "\n",
    "y_pred = pipe.predict(X_test)\n",
    "\n",
    "print(f\"\\n> Test Accuracy: {accuracy_score(y_test, y_pred)*100:.4f}%\")\n",
    "print(\"\\n> Confusion Matrix: \")\n",
    "print(confusion_matrix(y_test, y_pred))\n",
    "print(\"\\n> Classification Report :\")\n",
    "print(classification_report(y_test, y_pred, target_names=classnames))"
   ]
  },
  {
   "cell_type": "code",
   "execution_count": 8,
   "metadata": {},
   "outputs": [
    {
     "name": "stdout",
     "output_type": "stream",
     "text": [
      "=== Kernel Transform ===\n"
     ]
    },
    {
     "name": "stderr",
     "output_type": "stream",
     "text": [
      "100%|██████████| 360/360 [00:28<00:00, 12.64it/s]\n"
     ]
    },
    {
     "name": "stdout",
     "output_type": "stream",
     "text": [
      "\n",
      "> Test Accuracy: 91.1111%\n",
      "\n",
      "> Confusion Matrix: \n",
      "[[106   0  14]\n",
      " [  0 115   5]\n",
      " [  0  13 107]]\n",
      "\n",
      "> Classification Report :\n",
      "              precision    recall  f1-score   support\n",
      "\n",
      "       Empty       1.00      0.88      0.94       120\n",
      "        Walk       0.90      0.96      0.93       120\n",
      "        Jump       0.85      0.89      0.87       120\n",
      "\n",
      "    accuracy                           0.91       360\n",
      "   macro avg       0.92      0.91      0.91       360\n",
      "weighted avg       0.92      0.91      0.91       360\n",
      "\n"
     ]
    }
   ],
   "source": [
    "import warnings\n",
    "\n",
    "warnings.filterwarnings(\"ignore\")\n",
    "\n",
    "X, y, nsamples, classnames, dim = load_dataset(\"../dataset/rCSI-4\")\n",
    "X = X.reshape(X.shape[0], *dim)\n",
    "\n",
    "y_pred = pipe.predict(X)\n",
    "\n",
    "print(f\"\\n> Test Accuracy: {accuracy_score(y, y_pred)*100:.4f}%\")\n",
    "print(\"\\n> Confusion Matrix: \")\n",
    "print(confusion_matrix(y, y_pred))\n",
    "print(\"\\n> Classification Report :\")\n",
    "print(classification_report(y, y_pred, target_names=classnames))"
   ]
  }
 ],
 "metadata": {
  "kernelspec": {
   "display_name": ".venv",
   "language": "python",
   "name": "python3"
  },
  "language_info": {
   "codemirror_mode": {
    "name": "ipython",
    "version": 3
   },
   "file_extension": ".py",
   "mimetype": "text/x-python",
   "name": "python",
   "nbconvert_exporter": "python",
   "pygments_lexer": "ipython3",
   "version": "3.8.10"
  },
  "orig_nbformat": 4
 },
 "nbformat": 4,
 "nbformat_minor": 2
}
